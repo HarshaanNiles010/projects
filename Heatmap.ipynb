{
 "cells": [
  {
   "cell_type": "code",
   "execution_count": 22,
   "id": "c4eade6f-2bd9-4127-a1bb-c6565d5020c2",
   "metadata": {},
   "outputs": [
    {
     "name": "stdout",
     "output_type": "stream",
     "text": [
      "The original array is \n",
      " [[0. 0. 0. 0. 0.]\n",
      " [0. 1. 0. 0. 0.]\n",
      " [0. 0. 0. 0. 0.]\n",
      " [0. 0. 0. 0. 0.]\n",
      " [0. 0. 0. 0. 0.]]\n",
      "The neww array is \n",
      " [[0. 0. 0. 0. 0.]\n",
      " [0. 1. 0. 0. 0.]\n",
      " [0. 0. 0. 0. 0.]\n",
      " [0. 0. 0. 0. 0.]\n",
      " [0. 0. 0. 0. 0.]]\n"
     ]
    }
   ],
   "source": [
    "import numpy as np\n",
    "\n",
    "arr0 = np.zeros((5,5))\n",
    "\n",
    "#print(f'the original array is \\n {arr0}')\n",
    "def checkPlayerMove():\n",
    "    # user input for the coordinate to be placed at\n",
    "    quit = False\n",
    "    # Checking the user input for a valid input \n",
    "    while not quit:\n",
    "            tempInd = input(\"enter the index to place the peice at: \").split(\" \")\n",
    "            try:\n",
    "                index_X = int(tempInd[0])\n",
    "                index_Y = int(tempInd[1])\n",
    "                if(index_X > arr0.shape[0] or index_Y > arr0.shape[1]):\n",
    "                    temp = 1\n",
    "                    raise Exception\n",
    "                quit= True\n",
    "            except:\n",
    "                if(temp != 1):\n",
    "                    print(\"Please enter a number value\")\n",
    "                else:\n",
    "                    print(f'Please enter numbers between {arr0.shape[0]} and {arr0.shape[1]}')\n",
    "                    \n",
    "                    \n",
    "# To take a transpose of the array across the secondary diagonal\n",
    "def SecTrans(arr):\n",
    "    tempMat = np.matrix(arr0)\n",
    "    tempMat[0:,0:] = tempMat[0:,0:][::-1].transpose()[::-1]\n",
    "    tempArr = np.array(tempMat)\n",
    "    return tempArr\n",
    "# to poulate the matrix with a moves \n",
    "def Populate(arr0,index_X,index_Y):\n",
    "    for i in range(arr0.shape[0]):\n",
    "        if(i == index_X):\n",
    "            arr0[i] == 2\n",
    "        for j in range(arr0.shape[1]):\n",
    "            if(j == index_Y):\n",
    "                arr0[j] == 3\n",
    "            \n",
    "    print(f'The neww array is \\n {arr0}')\n",
    "    return arr0\n",
    "# the player can make a move \n",
    "player = 1\n",
    "index_X, index_Y = 1,1\n",
    "arr0[index_X,index_Y] = player \n",
    "print(f'The original array is \\n {arr0}')\n",
    "\n",
    "#arr0 = SecTrans(arr0)\n",
    "#print(arr0)\n",
    "#print(arr0)\n",
    "\n",
    "arr0 = Populate(arr0,index_X,index_Y)\n",
    "#print(arr0)"
   ]
  },
  {
   "cell_type": "code",
   "execution_count": null,
   "id": "78717339-512a-4056-8a88-14629c58899a",
   "metadata": {},
   "outputs": [],
   "source": []
  },
  {
   "cell_type": "code",
   "execution_count": null,
   "id": "cab1bc4c-1283-4f29-9cdd-92a8c8a96a47",
   "metadata": {},
   "outputs": [],
   "source": []
  }
 ],
 "metadata": {
  "kernelspec": {
   "display_name": "Python 3 (ipykernel)",
   "language": "python",
   "name": "python3"
  },
  "language_info": {
   "codemirror_mode": {
    "name": "ipython",
    "version": 3
   },
   "file_extension": ".py",
   "mimetype": "text/x-python",
   "name": "python",
   "nbconvert_exporter": "python",
   "pygments_lexer": "ipython3",
   "version": "3.9.7"
  }
 },
 "nbformat": 4,
 "nbformat_minor": 5
}
